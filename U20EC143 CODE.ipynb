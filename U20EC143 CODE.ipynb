{
  "cells": [
    {
      "cell_type": "code",
      "execution_count": 1,
      "metadata": {
        "id": "3AIgvzsf2S60"
      },
      "outputs": [],
      "source": [
        "# Importing the Required libraries and tools\n",
        "import h5py as h5\n",
        "import numpy as np\n",
        "from sklearn.model_selection import train_test_split\n",
        "from sklearn.linear_model import LogisticRegression as log_reg\n",
        "from sklearn.svm import SVC\n",
        "from sklearn.metrics import accuracy_score, confusion_matrix\n",
        "import matplotlib.pyplot as plt"
      ]
    },
    {
      "cell_type": "code",
      "execution_count": 4,
      "metadata": {
        "id": "rvuzaytc2S65"
      },
      "outputs": [],
      "source": [
        "# Opening the dataset with h5py tool\n",
        "file = h5.File('/content/drive/MyDrive/amc_200_qpsk_8psk.mat')\n",
        "file = list(file.items())"
      ]
    },
    {
      "cell_type": "code",
      "execution_count": 5,
      "metadata": {
        "id": "Km4_NlL72S65"
      },
      "outputs": [],
      "source": [
        "# Applying labels 1 and 0 to dataset\n",
        "columns = []\n",
        "values = []\n",
        "for f in file:\n",
        "    columns.append(f[0])\n",
        "    values.append(list(f[1]))"
      ]
    },
    {
      "cell_type": "code",
      "source": [
        "# Step to mount drive with colab\n",
        "from google.colab import drive\n",
        "drive.mount('/content/drive')"
      ],
      "metadata": {
        "colab": {
          "base_uri": "https://localhost:8080/"
        },
        "id": "ybHmEtXt2lsb",
        "outputId": "a7f782af-5409-43fb-8db6-088bfc4c8a61"
      },
      "execution_count": 3,
      "outputs": [
        {
          "output_type": "stream",
          "name": "stdout",
          "text": [
            "Mounted at /content/drive\n"
          ]
        }
      ]
    },
    {
      "cell_type": "code",
      "execution_count": 6,
      "metadata": {
        "colab": {
          "base_uri": "https://localhost:8080/"
        },
        "id": "SirtuOxl2S66",
        "outputId": "8906f3fd-6b6b-45ca-8347-5e75c7e6c46c"
      },
      "outputs": [
        {
          "output_type": "execute_result",
          "data": {
            "text/plain": [
              "['lbl', 'rcd_y', 'snrs']"
            ]
          },
          "metadata": {},
          "execution_count": 6
        }
      ],
      "source": [
        "columns"
      ]
    },
    {
      "cell_type": "code",
      "execution_count": 7,
      "metadata": {
        "id": "XQKs5vlQ2S67"
      },
      "outputs": [],
      "source": [
        "#Creating Arrays out of labelled data\n",
        "real = np.array(values[1])['real'].astype(np.float32)\n",
        "imag = np.array(values[1])['imag'].astype(np.float32)"
      ]
    },
    {
      "cell_type": "code",
      "execution_count": 8,
      "metadata": {
        "id": "pNktG97p2S67"
      },
      "outputs": [],
      "source": [
        "# Calculating the phase of the signals\n",
        "x = np.transpose(np.arctan(imag/real))"
      ]
    },
    {
      "cell_type": "code",
      "execution_count": 9,
      "metadata": {
        "id": "0oakj1dc2S68"
      },
      "outputs": [],
      "source": [
        "y = np.transpose(np.array(values[0])).astype(np.float32) - 1"
      ]
    },
    {
      "cell_type": "code",
      "execution_count": 10,
      "metadata": {
        "id": "kYyzgq1P2S68"
      },
      "outputs": [],
      "source": [
        "# Reshaping the matrix\n",
        "x_mean = np.reshape(np.mean(x,axis=0), (1,200))\n",
        "x_std = np.reshape(np.std(x,axis=0), (1,200))"
      ]
    },
    {
      "cell_type": "code",
      "execution_count": 11,
      "metadata": {
        "id": "yHtPdHMG2S68"
      },
      "outputs": [],
      "source": [
        "x = (x - x_mean) * (1/x_std)"
      ]
    },
    {
      "cell_type": "code",
      "execution_count": 12,
      "metadata": {
        "id": "Tv2WXBfQ2S69"
      },
      "outputs": [],
      "source": [
        "# Splitting the dataset in 80 20 ratio\n",
        "x_train, x_test, y_train, y_test = train_test_split(x, y, test_size=0.2, random_state=42)"
      ]
    },
    {
      "cell_type": "code",
      "execution_count": 13,
      "metadata": {
        "colab": {
          "base_uri": "https://localhost:8080/"
        },
        "id": "xQcxCGrD2S69",
        "outputId": "7dbd27ef-08c2-495c-b69a-3b328d1a1679"
      },
      "outputs": [
        {
          "output_type": "stream",
          "name": "stderr",
          "text": [
            "/usr/local/lib/python3.10/dist-packages/sklearn/utils/validation.py:1143: DataConversionWarning: A column-vector y was passed when a 1d array was expected. Please change the shape of y to (n_samples, ), for example using ravel().\n",
            "  y = column_or_1d(y, warn=True)\n"
          ]
        }
      ],
      "source": [
        "# Applying the model on training dataset\n",
        "model = log_reg().fit(x_train, y_train)"
      ]
    },
    {
      "cell_type": "code",
      "execution_count": 14,
      "metadata": {
        "id": "WRhMMxfl2S69"
      },
      "outputs": [],
      "source": [
        "# Applying test data on trained model\n",
        "y_cap = model.predict(x_test)"
      ]
    },
    {
      "cell_type": "code",
      "execution_count": 15,
      "metadata": {
        "colab": {
          "base_uri": "https://localhost:8080/"
        },
        "id": "QifEnN7f2S6-",
        "outputId": "2e3272e7-2f38-45a5-bb55-fc214cfd0f92"
      },
      "outputs": [
        {
          "output_type": "execute_result",
          "data": {
            "text/plain": [
              "0.593"
            ]
          },
          "metadata": {},
          "execution_count": 15
        }
      ],
      "source": [
        "# Accuracy of the Logistic Regression\n",
        "accuracy_score(y_test, y_cap)"
      ]
    },
    {
      "cell_type": "code",
      "execution_count": 16,
      "metadata": {
        "colab": {
          "base_uri": "https://localhost:8080/"
        },
        "id": "lhSgcZqc2S6-",
        "outputId": "9a70268b-e66f-450e-b139-f4b966857035"
      },
      "outputs": [
        {
          "output_type": "stream",
          "name": "stderr",
          "text": [
            "/usr/local/lib/python3.10/dist-packages/sklearn/utils/validation.py:1143: DataConversionWarning: A column-vector y was passed when a 1d array was expected. Please change the shape of y to (n_samples, ), for example using ravel().\n",
            "  y = column_or_1d(y, warn=True)\n"
          ]
        }
      ],
      "source": [
        "# Applying SVM\n",
        "model = SVC().fit(x_train, y_train)"
      ]
    },
    {
      "cell_type": "code",
      "execution_count": 17,
      "metadata": {
        "id": "nQjh7YBR2S6-"
      },
      "outputs": [],
      "source": [
        "y_cap = model.predict(x_test)"
      ]
    },
    {
      "cell_type": "code",
      "execution_count": 18,
      "metadata": {
        "colab": {
          "base_uri": "https://localhost:8080/"
        },
        "id": "JTrNUjEr2S6-",
        "outputId": "b89eec44-b3a1-4bb4-d52c-f83c6650ae73"
      },
      "outputs": [
        {
          "output_type": "execute_result",
          "data": {
            "text/plain": [
              "0.724"
            ]
          },
          "metadata": {},
          "execution_count": 18
        }
      ],
      "source": [
        "# Accuracy of SVM\n",
        "accuracy_score(y_test, y_cap)"
      ]
    },
    {
      "cell_type": "code",
      "execution_count": null,
      "metadata": {
        "id": "H31c95pj2S6-"
      },
      "outputs": [],
      "source": []
    }
  ],
  "metadata": {
    "kernelspec": {
      "display_name": "base",
      "language": "python",
      "name": "python3"
    },
    "language_info": {
      "codemirror_mode": {
        "name": "ipython",
        "version": 3
      },
      "file_extension": ".py",
      "mimetype": "text/x-python",
      "name": "python",
      "nbconvert_exporter": "python",
      "pygments_lexer": "ipython3",
      "version": "3.9.12"
    },
    "orig_nbformat": 4,
    "colab": {
      "provenance": []
    }
  },
  "nbformat": 4,
  "nbformat_minor": 0
}